{
 "cells": [
  {
   "cell_type": "markdown",
   "metadata": {},
   "source": [
    "## 请用python编写函数find_string，从文本中搜索并打印内容，要求支持通配符星号和问号。"
   ]
  },
  {
   "cell_type": "code",
   "execution_count": 6,
   "metadata": {},
   "outputs": [],
   "source": [
    "def find_string(string, pat):\n",
    "    import re\n",
    "    print(re.findall(pat, string, re.I))"
   ]
  },
  {
   "cell_type": "code",
   "execution_count": 30,
   "metadata": {},
   "outputs": [
    {
     "name": "stdout",
     "output_type": "stream",
     "text": [
      "['wor']\n",
      "['hello worl']\n",
      "['o w', 'orl']\n",
      "['o', 'o']\n"
     ]
    }
   ],
   "source": [
    "find_string('hello world','wor')\n",
    "find_string('hello world','.*l')\n",
    "find_string('hello world','o..')\n",
    "find_string('hello world','o')"
   ]
  },
  {
   "cell_type": "markdown",
   "metadata": {},
   "source": [
    "## Python到底是什么样的语言?"
   ]
  },
  {
   "cell_type": "markdown",
   "metadata": {},
   "source": [
    "1. **Python是解释型语言**:不像C和其他语言，Python运行前不需要编译。其他解释型语言包括PHP和Ruby。\n",
    "2. **Python是动态类型的**:不需要在声明变量时指定类型，可以先定义 x=1，然后 x=\"a string\"。\n",
    "3. **Python是面向对象语言**：所有允许定义类并且可以继承和组合。Python没有访问访问标识如在C++中的public, private, 依靠程序员的素质。\n",
    "4. **函数是一等公民**：函数可以被赋值，从其他函数返回值，并且传递函数对象。类不是一等公民。\n",
    "5. **C扩展写程序**：写Python代码很快，但是跑起来会比编译型语言慢。幸运的是，Python允许使用C扩展写程序，所以瓶颈可以得到处理。Numpy库就是一个很好例子，因为很多代码不是Python直接写的，所以运行很快。"
   ]
  },
  {
   "cell_type": "markdown",
   "metadata": {},
   "source": [
    "## 写出一段Python代码实现删除一个list里面的重复元素。\n"
   ]
  },
  {
   "cell_type": "code",
   "execution_count": 1,
   "metadata": {},
   "outputs": [
    {
     "name": "stdout",
     "output_type": "stream",
     "text": [
      "[1, 2, 4, 5, 6, 7, 8, 9, 0]\n"
     ]
    }
   ],
   "source": [
    "a = [1, 2, 4, 2, 4, 5, 6, 5, 7, 8, 9, 0]\n",
    "\n",
    "b = {}\n",
    "b = b.fromkeys(a)\n",
    "c = list(b.keys())\n",
    "\n",
    "print(c)"
   ]
  },
  {
   "cell_type": "markdown",
   "metadata": {},
   "source": [
    "## 从最后一个元素开始判断，去除连续出现的元素?"
   ]
  },
  {
   "cell_type": "code",
   "execution_count": 9,
   "metadata": {},
   "outputs": [
    {
     "name": "stdout",
     "output_type": "stream",
     "text": [
      "[1, 2, 4, 2, 4, 5, 7, 10, 5, 7, 8, 9, 0, 3]\n"
     ]
    }
   ],
   "source": [
    "a = [1, 2, 4, 2, 4, 5, 7, 10, 5, 5, 5, 7, 8, 9, 0, 3]\n",
    "\n",
    "last = a[-1]\n",
    "for i in range(len(a) - 2, -1, -1):\n",
    "    if last == a[i]:\n",
    "        del a[i]\n",
    "    else:\n",
    "        last = a[i]\n",
    "\n",
    "print(a)"
   ]
  },
  {
   "cell_type": "markdown",
   "metadata": {},
   "source": [
    "## random生成随机数。"
   ]
  },
  {
   "cell_type": "code",
   "execution_count": 10,
   "metadata": {},
   "outputs": [],
   "source": [
    "import random"
   ]
  },
  {
   "cell_type": "code",
   "execution_count": 11,
   "metadata": {},
   "outputs": [
    {
     "data": {
      "text/plain": [
       "4"
      ]
     },
     "execution_count": 11,
     "metadata": {},
     "output_type": "execute_result"
    }
   ],
   "source": [
    "# 随机整数\n",
    "random.randint(1, 10)"
   ]
  },
  {
   "cell_type": "code",
   "execution_count": 20,
   "metadata": {},
   "outputs": [
    {
     "data": {
      "text/plain": [
       "5"
      ]
     },
     "execution_count": 20,
     "metadata": {},
     "output_type": "execute_result"
    }
   ],
   "source": [
    "# 返回一个范围在(start,stop,step)之间的随机整数，不包括结束值。\n",
    "random.randrange(1, 10, 2)"
   ]
  },
  {
   "cell_type": "code",
   "execution_count": 23,
   "metadata": {},
   "outputs": [
    {
     "data": {
      "text/plain": [
       "0.27535731769048966"
      ]
     },
     "execution_count": 23,
     "metadata": {},
     "output_type": "execute_result"
    }
   ],
   "source": [
    "# 随机实数, 0-1\n",
    "random.random()"
   ]
  },
  {
   "cell_type": "code",
   "execution_count": 25,
   "metadata": {},
   "outputs": [
    {
     "data": {
      "text/plain": [
       "35.44526238630184"
      ]
     },
     "execution_count": 25,
     "metadata": {},
     "output_type": "execute_result"
    }
   ],
   "source": [
    "# 指定范围内的随机浮点数\n",
    "random.uniform(1, 100)"
   ]
  },
  {
   "cell_type": "markdown",
   "metadata": {},
   "source": [
    "## lambda函数"
   ]
  },
  {
   "cell_type": "markdown",
   "metadata": {},
   "source": [
    "lambda 表达式，通常是在需要一个函数，但是又不想费神去命名一个函数的场合下使用，也就是指匿名函数"
   ]
  },
  {
   "cell_type": "code",
   "execution_count": 26,
   "metadata": {},
   "outputs": [
    {
     "data": {
      "text/plain": [
       "5"
      ]
     },
     "execution_count": 26,
     "metadata": {},
     "output_type": "execute_result"
    }
   ],
   "source": [
    "lmd = lambda x, y: x + y\n",
    "lmd(2, 3)"
   ]
  },
  {
   "cell_type": "markdown",
   "metadata": {},
   "source": [
    "## 把每个合数分解成几个质数相乘的形式，例如：100=225*5，并把代码封装成函数的形式"
   ]
  },
  {
   "cell_type": "code",
   "execution_count": 45,
   "metadata": {},
   "outputs": [],
   "source": [
    "def f(n):\n",
    "    result=[]\n",
    "    i=2\n",
    "    string = str(n)+'='\n",
    "    while n>1:\n",
    "        if n%i==0:\n",
    "            n=n/i\n",
    "            result.append(str(i))\n",
    "        else:   \n",
    "            i+=1\n",
    "    string+='*'.join(result)\n",
    "    return string"
   ]
  },
  {
   "cell_type": "code",
   "execution_count": 46,
   "metadata": {},
   "outputs": [
    {
     "name": "stdout",
     "output_type": "stream",
     "text": [
      "100=2*2*5*5\n",
      "101=101\n",
      "102=2*3*17\n",
      "103=103\n",
      "104=2*2*2*13\n",
      "105=3*5*7\n",
      "106=2*53\n",
      "107=107\n",
      "108=2*2*3*3*3\n",
      "109=109\n",
      "110=2*5*11\n",
      "111=3*37\n",
      "112=2*2*2*2*7\n",
      "113=113\n",
      "114=2*3*19\n",
      "115=5*23\n",
      "116=2*2*29\n",
      "117=3*3*13\n",
      "118=2*59\n",
      "119=7*17\n"
     ]
    }
   ],
   "source": [
    "for i in range(100, 120): \n",
    "    print(f(i)) "
   ]
  },
  {
   "cell_type": "markdown",
   "metadata": {},
   "source": [
    "## 用Python手写实现冒泡排序"
   ]
  },
  {
   "cell_type": "code",
   "execution_count": 60,
   "metadata": {},
   "outputs": [],
   "source": [
    "def bubble_sort(arry):\n",
    "    n = len(arry)\n",
    "    for i in range(n):\n",
    "        for j in range(0, n - i - 1):\n",
    "            if arry[j] > arry[j + 1]:\n",
    "                arry[j], arry[j + 1] = arry[j + 1], arry[j]\n",
    "\n",
    "    return arry"
   ]
  },
  {
   "cell_type": "code",
   "execution_count": 62,
   "metadata": {},
   "outputs": [
    {
     "name": "stdout",
     "output_type": "stream",
     "text": [
      "[0, 1, 2, 2, 3, 4, 4, 5, 5, 7, 7, 8, 9, 10]\n"
     ]
    }
   ],
   "source": [
    "print(bubble_sort([1, 2, 4, 2, 4, 5, 7, 10, 5, 7, 8, 9, 0, 3]))"
   ]
  },
  {
   "cell_type": "markdown",
   "metadata": {},
   "source": [
    "## 判断是否为回文"
   ]
  },
  {
   "cell_type": "code",
   "execution_count": 66,
   "metadata": {},
   "outputs": [
    {
     "name": "stdout",
     "output_type": "stream",
     "text": [
      "pls input a string of numbes:12321\n",
      "12321 is Palindrome number\n"
     ]
    }
   ],
   "source": [
    "s = input('pls input a string of numbes:')\n",
    "s_ = s[::-1]\n",
    "\n",
    "answer = 'isn\\'t'\n",
    "if s_ == s:\n",
    "    answer = 'is'\n",
    "\n",
    "print(s, answer, 'Palindrome number')"
   ]
  },
  {
   "cell_type": "code",
   "execution_count": null,
   "metadata": {},
   "outputs": [],
   "source": []
  }
 ],
 "metadata": {
  "kernelspec": {
   "display_name": "Python 3",
   "language": "python",
   "name": "python3"
  },
  "language_info": {
   "codemirror_mode": {
    "name": "ipython",
    "version": 3
   },
   "file_extension": ".py",
   "mimetype": "text/x-python",
   "name": "python",
   "nbconvert_exporter": "python",
   "pygments_lexer": "ipython3",
   "version": "3.7.1"
  },
  "toc": {
   "base_numbering": 1,
   "nav_menu": {},
   "number_sections": true,
   "sideBar": true,
   "skip_h1_title": false,
   "title_cell": "Table of Contents",
   "title_sidebar": "Contents",
   "toc_cell": false,
   "toc_position": {},
   "toc_section_display": true,
   "toc_window_display": false
  }
 },
 "nbformat": 4,
 "nbformat_minor": 2
}
