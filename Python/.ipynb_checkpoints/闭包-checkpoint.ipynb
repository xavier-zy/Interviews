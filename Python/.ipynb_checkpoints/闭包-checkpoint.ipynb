{
 "cells": [
  {
   "cell_type": "markdown",
   "metadata": {},
   "source": [
    "## 闭包的概念\n",
    "\n",
    ">在一些语言中，在函数中可以（嵌套）定义另一个函数时，如果内部的函数引用了外部的函数的变量，则可能产生闭包。闭包可以用来在一个函数与一组“私有”变量之间创建关联关系。在给定函数被多次调用的过程中，这些私有变量能够保持其持久性。\n",
    "<br/>—— 维基百科"
   ]
  },
  {
   "cell_type": "code",
   "execution_count": 2,
   "metadata": {},
   "outputs": [
    {
     "name": "stdout",
     "output_type": "stream",
     "text": [
      "Foo!\n"
     ]
    }
   ],
   "source": [
    "def make_printer(msg):\n",
    "    def printer():\n",
    "        print(msg)  # 夹带私货（外部变量）\n",
    "\n",
    "    return printer  # 返回的是函数，带私货的函数\n",
    "\n",
    "\n",
    "printer = make_printer('Foo!')\n",
    "printer()"
   ]
  },
  {
   "cell_type": "markdown",
   "metadata": {},
   "source": [
    "## 闭包的意义\n",
    "\n",
    "闭包存在的意义就是它夹带了外部变量（私货），如果它不夹带私货，它和普通的函数就没有任何区别。同一个的函数夹带了不同的私货，就实现了不同的功能。其实你也可以这么理解，闭包和面向接口编程的概念很像，可以把闭包理解成轻量级的接口封装。"
   ]
  },
  {
   "cell_type": "markdown",
   "metadata": {},
   "source": [
    "> 接口定义了一套对方法签名的约束规则"
   ]
  },
  {
   "cell_type": "code",
   "execution_count": 6,
   "metadata": {},
   "outputs": [
    {
     "name": "stdout",
     "output_type": "stream",
     "text": [
      "<a>Hello</a>\n",
      "<b>Hello</b>\n"
     ]
    }
   ],
   "source": [
    "def tag(tag_name):\n",
    "    def add_tag(content):\n",
    "        return \"<{0}>{1}</{0}>\".format(tag_name, content)\n",
    "\n",
    "    return add_tag\n",
    "\n",
    "\n",
    "content = 'Hello'\n",
    "\n",
    "add_tag = tag('a')\n",
    "\n",
    "print(add_tag(content))\n",
    "\n",
    "add_tag = tag('b')\n",
    "print(add_tag(content))"
   ]
  },
  {
   "cell_type": "markdown",
   "metadata": {},
   "source": [
    "在这个例子里，我们想要一个给content加tag的功能，但是具体的tag_name是什么样子的要根据实际需求来定，对外部调用的接口已经确定，就是add_tag(content)。如果按照面向接口方式实现，我们会先把add_tag写成接口，指定其参数和返回类型，然后分别去实现a和b的add_tag。\n",
    "\n",
    "但是在闭包的概念中，add_tag就是一个函数，它需要tag_name和content两个参数，只不过tag_name这个参数是打包带走的。所以一开始时就可以告诉我怎么打包，然后带走就行。"
   ]
  },
  {
   "cell_type": "markdown",
   "metadata": {},
   "source": [
    "## 何时使用闭包\n",
    "\n",
    "Python中的装饰器Decorator就是一个闭包"
   ]
  },
  {
   "cell_type": "code",
   "execution_count": 9,
   "metadata": {},
   "outputs": [],
   "source": [
    "# how to define\n",
    "def wrapper(func1):  # 必须接受一个且仅一个函数作为参数\n",
    "    return func2  # 返回一个且仅一个callable对象，一般为函数\n",
    "\n",
    "\n",
    "# how to use\n",
    "def target_func(args):  # 目标函数\n",
    "    pass\n",
    "\n",
    "\n",
    "# 调用方式一，直接包裹\n",
    "result = wrapper(target_func)(args)\n",
    "\n",
    "\n",
    "# 调用方式二，使用@语法，等同于方式一\n",
    "@wrapper\n",
    "def target_func(args):\n",
    "    pass\n",
    "\n",
    "\n",
    "result = target_func()"
   ]
  },
  {
   "cell_type": "markdown",
   "metadata": {},
   "source": [
    "如果装饰器带参数，那么就需要在原来的装饰器上再包一层，用于接收这些参数。这些参数（私货）传递到内层的装饰器里后，闭包就形成了。所以说当装饰器需要自定义参数时，一般都会形成闭包。（类装饰器例外）"
   ]
  },
  {
   "cell_type": "code",
   "execution_count": 10,
   "metadata": {},
   "outputs": [
    {
     "name": "stdout",
     "output_type": "stream",
     "text": [
      "<b>Hello Toby!</b>\n",
      "<b>Hello world!</b>\n"
     ]
    }
   ],
   "source": [
    "def html_tags(tag_name):\n",
    "    def wrapper_(func):\n",
    "        def wrapper(*args, **kwargs):\n",
    "            content = func(*args, **kwargs)\n",
    "            return \"<{tag}>{content}</{tag}>\".format(\n",
    "                tag=tag_name, content=content)\n",
    "\n",
    "        return wrapper\n",
    "\n",
    "    return wrapper_\n",
    "\n",
    "\n",
    "@html_tags('b')\n",
    "def hello(name='Toby'):\n",
    "    return 'Hello {}!'.format(name)\n",
    "\n",
    "\n",
    "# 不用@的写法如下\n",
    "# hello = html_tag('b')(hello)\n",
    "# html_tag('b') 是一个闭包，它接受一个函数，并返回一个函数\n",
    "\n",
    "print(hello())  # <b>Hello Toby!</b>\n",
    "print(hello('world'))  # <b>Hello world!</b>"
   ]
  },
  {
   "cell_type": "markdown",
   "metadata": {},
   "source": [
    "## __closure__属性\n",
    "\n",
    "闭包函数相对与普通函数会多出一个\\_\\_closure\\_\\_的属性，里面定义了一个元组用于存放所有的cell对象，每个cell对象保存了这个闭包中所有的外部变量。"
   ]
  },
  {
   "cell_type": "code",
   "execution_count": 11,
   "metadata": {},
   "outputs": [
    {
     "name": "stdout",
     "output_type": "stream",
     "text": [
      "(<cell at 0x10e449d08: str object at 0x10e714110>, <cell at 0x10e449648: str object at 0x10d1a55a8>)\n",
      "Foo\n",
      "Bar\n"
     ]
    }
   ],
   "source": [
    "def make_printer(msg1, msg2):\n",
    "    def printer():\n",
    "        print(msg1, msg2)\n",
    "\n",
    "    return printer\n",
    "\n",
    "\n",
    "printer = make_printer('Foo', 'Bar')  # 形成闭包\n",
    "\n",
    "print(printer.__closure__)  # 返回cell元组\n",
    "print(printer.__closure__[0].cell_contents)  # 第一个外部变量\n",
    "print(printer.__closure__[1].cell_contents)  # 第二个外部变量"
   ]
  },
  {
   "cell_type": "code",
   "execution_count": null,
   "metadata": {},
   "outputs": [],
   "source": []
  }
 ],
 "metadata": {
  "kernelspec": {
   "display_name": "Python 3",
   "language": "python",
   "name": "python3"
  },
  "language_info": {
   "codemirror_mode": {
    "name": "ipython",
    "version": 3
   },
   "file_extension": ".py",
   "mimetype": "text/x-python",
   "name": "python",
   "nbconvert_exporter": "python",
   "pygments_lexer": "ipython3",
   "version": "3.7.1"
  },
  "toc": {
   "base_numbering": 1,
   "nav_menu": {
    "height": "69px",
    "width": "184px"
   },
   "number_sections": true,
   "sideBar": true,
   "skip_h1_title": false,
   "title_cell": "Table of Contents",
   "title_sidebar": "Contents",
   "toc_cell": false,
   "toc_position": {},
   "toc_section_display": true,
   "toc_window_display": false
  }
 },
 "nbformat": 4,
 "nbformat_minor": 2
}
