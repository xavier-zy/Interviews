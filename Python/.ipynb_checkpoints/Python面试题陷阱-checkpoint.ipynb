{
 "cells": [
  {
   "cell_type": "markdown",
   "metadata": {},
   "source": [
    "## 类继承"
   ]
  },
  {
   "cell_type": "markdown",
   "metadata": {},
   "source": [
    "**Q**:请问如何修改以下Python代码，使得下面的代码调用类A的show方法？"
   ]
  },
  {
   "cell_type": "code",
   "execution_count": 1,
   "metadata": {},
   "outputs": [
    {
     "name": "stdout",
     "output_type": "stream",
     "text": [
      "derived show\n"
     ]
    }
   ],
   "source": [
    "class A(object):\n",
    "    def show(self):\n",
    "        print(\"base show\")\n",
    "\n",
    "\n",
    "class B(object):\n",
    "    def show(self):\n",
    "        print(\"derived show\")\n",
    "\n",
    "\n",
    "obj = B()\n",
    "obj.show()"
   ]
  },
  {
   "cell_type": "markdown",
   "metadata": {},
   "source": [
    "**A**:`类继承`，只要通过`__class__ `方法指定类对象就可以了。"
   ]
  },
  {
   "cell_type": "code",
   "execution_count": 3,
   "metadata": {},
   "outputs": [
    {
     "name": "stdout",
     "output_type": "stream",
     "text": [
      "base show\n"
     ]
    }
   ],
   "source": [
    "obj.__class__= A\n",
    "obj.show()"
   ]
  },
  {
   "cell_type": "markdown",
   "metadata": {},
   "source": [
    "## 方法对象"
   ]
  },
  {
   "cell_type": "markdown",
   "metadata": {},
   "source": [
    "**Q**:请问如何修改以下Python代码，使得代码能够运行？"
   ]
  },
  {
   "cell_type": "code",
   "execution_count": 2,
   "metadata": {},
   "outputs": [
    {
     "name": "stdout",
     "output_type": "stream",
     "text": [
      "a = 10 \n",
      "b = 20\n"
     ]
    },
    {
     "ename": "TypeError",
     "evalue": "'A' object is not callable",
     "output_type": "error",
     "traceback": [
      "\u001b[0;31m---------------------------------------------------------------------------\u001b[0m",
      "\u001b[0;31mTypeError\u001b[0m                                 Traceback (most recent call last)",
      "\u001b[0;32m<ipython-input-2-52d49ea30b89>\u001b[0m in \u001b[0;36m<module>\u001b[0;34m\u001b[0m\n\u001b[1;32m     11\u001b[0m \u001b[0ma1\u001b[0m\u001b[0;34m.\u001b[0m\u001b[0mmyprint\u001b[0m\u001b[0;34m(\u001b[0m\u001b[0;34m)\u001b[0m\u001b[0;34m\u001b[0m\u001b[0;34m\u001b[0m\u001b[0m\n\u001b[1;32m     12\u001b[0m \u001b[0;34m\u001b[0m\u001b[0m\n\u001b[0;32m---> 13\u001b[0;31m \u001b[0ma1\u001b[0m\u001b[0;34m(\u001b[0m\u001b[0;36m80\u001b[0m\u001b[0;34m)\u001b[0m\u001b[0;34m\u001b[0m\u001b[0;34m\u001b[0m\u001b[0m\n\u001b[0m",
      "\u001b[0;31mTypeError\u001b[0m: 'A' object is not callable"
     ]
    }
   ],
   "source": [
    "class A(object):\n",
    "    def __init__(self, a, b):\n",
    "        self.__a = a\n",
    "        self.__b = b\n",
    "\n",
    "    def myprint(self):\n",
    "        print('a =', self.__a, '\\nb =', self.__b)\n",
    "\n",
    "\n",
    "a1 = A(10, 20)\n",
    "a1.myprint()\n",
    "\n",
    "a1(80)"
   ]
  },
  {
   "cell_type": "markdown",
   "metadata": {},
   "source": [
    "**A**:此题考察得是`方法对象`，为了能让对象实例能被直接调用，需要实现 `__call__` 方法，补充代码如下"
   ]
  },
  {
   "cell_type": "code",
   "execution_count": 4,
   "metadata": {},
   "outputs": [
    {
     "name": "stdout",
     "output_type": "stream",
     "text": [
      "a= 10 \n",
      "b= 20\n",
      "call: 90\n"
     ]
    }
   ],
   "source": [
    "class A(object):\n",
    "    def __init__(self, a, b):\n",
    "        self.__a = a\n",
    "        self.__b = b\n",
    "\n",
    "    def myprint(self):\n",
    "        print('a=', self.__a, '\\nb=', self.__b)\n",
    "\n",
    "    def __call__(self, num):\n",
    "        print('call:', num + self.__a)\n",
    "\n",
    "\n",
    "a1 = A(10, 20)\n",
    "a1.myprint()\n",
    "\n",
    "a1(80)"
   ]
  },
  {
   "cell_type": "markdown",
   "metadata": {},
   "source": [
    "## new和init的用法"
   ]
  },
  {
   "cell_type": "markdown",
   "metadata": {},
   "source": [
    "**Q**:下面这段代码的输出是什么？"
   ]
  },
  {
   "cell_type": "code",
   "execution_count": 12,
   "metadata": {},
   "outputs": [
    {
     "name": "stdout",
     "output_type": "stream",
     "text": [
      "NEW 5\n",
      "B INIT\n",
      "B fn\n",
      "NEW 20\n",
      "INIT 20\n",
      "A fn\n"
     ]
    }
   ],
   "source": [
    "class B(object):\n",
    "    def fn(self):\n",
    "        print('B fn')\n",
    "\n",
    "    def __init__(self):\n",
    "        print('B INIT')\n",
    "\n",
    "\n",
    "class A(object):\n",
    "    def fn(self):\n",
    "        print('A fn')\n",
    "\n",
    "    def __new__(cls, a):\n",
    "        print('NEW', a)\n",
    "        if a > 10:\n",
    "            return super(A, cls).__new__(cls)\n",
    "        return B()\n",
    "\n",
    "    def __init__(self, a):\n",
    "        print('INIT', a)\n",
    "\n",
    "\n",
    "a1 = A(5)\n",
    "a1.fn()\n",
    "a2 = A(20)\n",
    "a2.fn()"
   ]
  },
  {
   "cell_type": "markdown",
   "metadata": {},
   "source": [
    "**A**:使用`__new__`方法，可以决定返回哪个对象，也就是创建对象之前调用的，这个常见于于设计模式的`单例`、`工厂模式`。__init__ 是`创建对象`是调用的。"
   ]
  },
  {
   "cell_type": "markdown",
   "metadata": {},
   "source": [
    "## 列表和字典的生成"
   ]
  },
  {
   "cell_type": "markdown",
   "metadata": {},
   "source": [
    "**Q**:下面这段代码输出什么?\n",
    "\n",
    "**A**:"
   ]
  },
  {
   "cell_type": "code",
   "execution_count": 17,
   "metadata": {},
   "outputs": [
    {
     "name": "stdout",
     "output_type": "stream",
     "text": [
      "[3, 4]\n",
      "[6, 8]\n",
      "{2: 4, 4: 16, 6: 36}\n",
      "{2: 'item4', 4: 'item16', 6: 'item36'}\n",
      "{'h', 'd', 'r'}\n"
     ]
    }
   ],
   "source": [
    "ls = [1, 2, 3, 4]\n",
    "list1 = [i for i in ls if i > 2]\n",
    "print(list1)\n",
    "\n",
    "list2 = [i * 2 for i in ls if i > 2]\n",
    "print(list2)\n",
    "\n",
    "dic1 = {x: x**2 for x in (2, 4, 6)}\n",
    "print(dic1)\n",
    "\n",
    "dic2 = {x: 'item' + str(x**2) for x in (2, 4, 6)}\n",
    "print(dic2)\n",
    "\n",
    "set1 = {x for x in 'hello world hhh' if x not in 'low level'}\n",
    "print(set1)"
   ]
  },
  {
   "cell_type": "markdown",
   "metadata": {},
   "source": [
    "## 全局变量和局部变量"
   ]
  },
  {
   "cell_type": "markdown",
   "metadata": {},
   "source": [
    "**Q**:下面这段代码输出什么?"
   ]
  },
  {
   "cell_type": "code",
   "execution_count": 19,
   "metadata": {},
   "outputs": [
    {
     "name": "stdout",
     "output_type": "stream",
     "text": [
      "9\n",
      "20\n",
      "9\n"
     ]
    }
   ],
   "source": [
    "num = 9\n",
    "\n",
    "\n",
    "def f1():\n",
    "    num = 20\n",
    "    print(num)\n",
    "\n",
    "\n",
    "def f2():\n",
    "    print(num)\n",
    "\n",
    "\n",
    "f2()\n",
    "f1()\n",
    "f2()"
   ]
  },
  {
   "cell_type": "markdown",
   "metadata": {},
   "source": [
    "**A**:此题考察`全局变量`和`局部变量`。num 不是个全局变量，所以每个函数都得到了自己的 num 拷贝，如果你想修改 num ，则必须用 `global` 关键字声明。比如下面这样"
   ]
  },
  {
   "cell_type": "code",
   "execution_count": 21,
   "metadata": {},
   "outputs": [
    {
     "name": "stdout",
     "output_type": "stream",
     "text": [
      "9\n",
      "20\n",
      "20\n"
     ]
    }
   ],
   "source": [
    "num = 9\n",
    "\n",
    "\n",
    "def f1():\n",
    "    global num\n",
    "    num = 20\n",
    "    print(num)\n",
    "\n",
    "\n",
    "def f2():\n",
    "    print(num)\n",
    "\n",
    "\n",
    "f2()\n",
    "f1()\n",
    "f2()"
   ]
  },
  {
   "cell_type": "markdown",
   "metadata": {},
   "source": [
    "## 用一行代码交换两个变量值"
   ]
  },
  {
   "cell_type": "code",
   "execution_count": 22,
   "metadata": {},
   "outputs": [
    {
     "name": "stdout",
     "output_type": "stream",
     "text": [
      "a=22, b=11\n"
     ]
    }
   ],
   "source": [
    "a = 11\n",
    "b = 22\n",
    "\n",
    "a, b = b, a\n",
    "print('a={0}, b={1}'.format(a, b))"
   ]
  },
  {
   "cell_type": "markdown",
   "metadata": {},
   "source": [
    "## Python的默认方法"
   ]
  },
  {
   "cell_type": "markdown",
   "metadata": {},
   "source": [
    "**Q**:如何添加代码，使得没有定义的方法都调用mydefault方法？"
   ]
  },
  {
   "cell_type": "code",
   "execution_count": 23,
   "metadata": {},
   "outputs": [
    {
     "name": "stdout",
     "output_type": "stream",
     "text": [
      "init\n"
     ]
    },
    {
     "ename": "AttributeError",
     "evalue": "'A' object has no attribute 'fn1'",
     "output_type": "error",
     "traceback": [
      "\u001b[0;31m---------------------------------------------------------------------------\u001b[0m",
      "\u001b[0;31mAttributeError\u001b[0m                            Traceback (most recent call last)",
      "\u001b[0;32m<ipython-input-23-1859a0274d76>\u001b[0m in \u001b[0;36m<module>\u001b[0;34m\u001b[0m\n\u001b[1;32m     10\u001b[0m \u001b[0;34m\u001b[0m\u001b[0m\n\u001b[1;32m     11\u001b[0m \u001b[0ma1\u001b[0m \u001b[0;34m=\u001b[0m \u001b[0mA\u001b[0m\u001b[0;34m(\u001b[0m\u001b[0;36m10\u001b[0m\u001b[0;34m,\u001b[0m \u001b[0;36m20\u001b[0m\u001b[0;34m)\u001b[0m\u001b[0;34m\u001b[0m\u001b[0;34m\u001b[0m\u001b[0m\n\u001b[0;32m---> 12\u001b[0;31m \u001b[0ma1\u001b[0m\u001b[0;34m.\u001b[0m\u001b[0mfn1\u001b[0m\u001b[0;34m(\u001b[0m\u001b[0;34m)\u001b[0m\u001b[0;34m\u001b[0m\u001b[0;34m\u001b[0m\u001b[0m\n\u001b[0m\u001b[1;32m     13\u001b[0m \u001b[0ma1\u001b[0m\u001b[0;34m.\u001b[0m\u001b[0mfn2\u001b[0m\u001b[0;34m(\u001b[0m\u001b[0;34m)\u001b[0m\u001b[0;34m\u001b[0m\u001b[0;34m\u001b[0m\u001b[0m\n\u001b[1;32m     14\u001b[0m \u001b[0ma1\u001b[0m\u001b[0;34m.\u001b[0m\u001b[0mfn3\u001b[0m\u001b[0;34m(\u001b[0m\u001b[0;34m)\u001b[0m\u001b[0;34m\u001b[0m\u001b[0;34m\u001b[0m\u001b[0m\n",
      "\u001b[0;31mAttributeError\u001b[0m: 'A' object has no attribute 'fn1'"
     ]
    }
   ],
   "source": [
    "class A(object):\n",
    "    def __init__(self, a, b):\n",
    "        self.a1 = a\n",
    "        self.b1 = b\n",
    "        print('init')\n",
    "\n",
    "    def mydefault(self):\n",
    "        print('default')\n",
    "\n",
    "\n",
    "a1 = A(10, 20)\n",
    "a1.fn1()\n",
    "a1.fn2()\n",
    "a1.fn3()"
   ]
  },
  {
   "cell_type": "markdown",
   "metadata": {},
   "source": [
    "**A**:此题的考的是Python的`默认方法`， 只有当没有定义的方法调用时，才会调用方法 `__getattr__`。当 fn1 方法传入参数时，我们可以给 mydefault 方法增加一个 `*args` 不定参数来兼容。"
   ]
  },
  {
   "cell_type": "code",
   "execution_count": 25,
   "metadata": {},
   "outputs": [
    {
     "name": "stdout",
     "output_type": "stream",
     "text": [
      "init\n",
      "default\n",
      "default\n",
      "default\n"
     ]
    }
   ],
   "source": [
    "class A(object):\n",
    "    def __init__(self, a, b):\n",
    "        self.a1 = a\n",
    "        self.b1 = b\n",
    "        print('init')\n",
    "\n",
    "    def mydefault(self):\n",
    "        print('default')\n",
    "\n",
    "    def __getattr__(self, name):\n",
    "        return self.mydefault\n",
    "\n",
    "\n",
    "a1 = A(10, 20)\n",
    "a1.fn1()\n",
    "a1.fn2()\n",
    "a1.fn3()"
   ]
  },
  {
   "cell_type": "code",
   "execution_count": 28,
   "metadata": {},
   "outputs": [
    {
     "name": "stdout",
     "output_type": "stream",
     "text": [
      "init\n",
      "other fn: fn1\n",
      "default 30\n",
      "other fn: fn2\n",
      "default hello\n",
      "other fn: fn3\n",
      "default 10\n"
     ]
    }
   ],
   "source": [
    "class A(object):\n",
    "    def __init__(self, a, b):\n",
    "        self.a1 = a\n",
    "        self.b1 = b\n",
    "        print('init')\n",
    "\n",
    "    def mydefault(self, *args):\n",
    "        print('default ' + str(args[0]))\n",
    "\n",
    "    def __getattr__(self, name):\n",
    "        print('other fn:', name)\n",
    "        return self.mydefault\n",
    "\n",
    "\n",
    "a1 = A(10, 20)\n",
    "a1.fn1(30)\n",
    "a1.fn2('hello')\n",
    "a1.fn3(10)"
   ]
  },
  {
   "cell_type": "markdown",
   "metadata": {},
   "source": [
    "## 导入模块"
   ]
  },
  {
   "cell_type": "markdown",
   "metadata": {},
   "source": [
    "**Q**:一个包里有三个模块，mod1.py, mod2.py, mod3.py ，但使用 from demopack import * 导入模块时，如何保证只有 mod1、mod3 被导入了。"
   ]
  },
  {
   "cell_type": "markdown",
   "metadata": {},
   "source": [
    "**A**:在包中增加 `__init__.py` 文件，并在文件中增加："
   ]
  },
  {
   "cell_type": "code",
   "execution_count": 29,
   "metadata": {},
   "outputs": [],
   "source": [
    "__all__ = ['mod1', 'mod3']"
   ]
  },
  {
   "cell_type": "markdown",
   "metadata": {},
   "source": [
    "## 写一个函数，接收整数参数 n，返回一个函数，函数返回n和参数的积。"
   ]
  },
  {
   "cell_type": "code",
   "execution_count": 30,
   "metadata": {},
   "outputs": [
    {
     "name": "stdout",
     "output_type": "stream",
     "text": [
      "63\n"
     ]
    }
   ],
   "source": [
    "def mulby(num):\n",
    "    def gn(val):\n",
    "        return num * val\n",
    "\n",
    "    return gn\n",
    "\n",
    "\n",
    "zw = mulby(7)\n",
    "print(zw(9))"
   ]
  },
  {
   "cell_type": "markdown",
   "metadata": {},
   "source": [
    "## 请问下面的代码有什么隐患?（Python2中）"
   ]
  },
  {
   "cell_type": "code",
   "execution_count": 31,
   "metadata": {},
   "outputs": [
    {
     "name": "stdout",
     "output_type": "stream",
     "text": [
      "firstXXXXXXXXXX\n"
     ]
    }
   ],
   "source": [
    "def strtest1(num):\n",
    "    str = 'first'\n",
    "    for i in range(num):\n",
    "        str += 'X'\n",
    "\n",
    "    return str\n",
    "\n",
    "print(strtest1(10))"
   ]
  },
  {
   "cell_type": "markdown",
   "metadata": {},
   "source": [
    "**A**:由于变量str是个`不可变对象`，每次迭代，python都会生成`新的str对象`来存储新的字符串，num越大，创建的str对象越多，`内存消耗越大`。"
   ]
  }
 ],
 "metadata": {
  "kernelspec": {
   "display_name": "Python 3",
   "language": "python",
   "name": "python3"
  },
  "language_info": {
   "codemirror_mode": {
    "name": "ipython",
    "version": 3
   },
   "file_extension": ".py",
   "mimetype": "text/x-python",
   "name": "python",
   "nbconvert_exporter": "python",
   "pygments_lexer": "ipython3",
   "version": "3.7.1"
  },
  "toc": {
   "base_numbering": 1,
   "nav_menu": {},
   "number_sections": true,
   "sideBar": true,
   "skip_h1_title": false,
   "title_cell": "Table of Contents",
   "title_sidebar": "Contents",
   "toc_cell": false,
   "toc_position": {},
   "toc_section_display": true,
   "toc_window_display": false
  }
 },
 "nbformat": 4,
 "nbformat_minor": 2
}
