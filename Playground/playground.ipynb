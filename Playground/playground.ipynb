{
 "cells": [
  {
   "cell_type": "code",
   "execution_count": 43,
   "metadata": {},
   "outputs": [],
   "source": [
    "nums = [1,5,233,7]"
   ]
  },
  {
   "cell_type": "code",
   "execution_count": 44,
   "metadata": {},
   "outputs": [
    {
     "name": "stdout",
     "output_type": "stream",
     "text": [
      "2 3 226 -226\n",
      "2 3 226 \n",
      "\n",
      "1 2 -228 228\n",
      "1 2 228 \n",
      "\n",
      "1 3 -221 -221\n",
      "1 3 -221 \n",
      "\n",
      "0 1 -4 4\n",
      "0 1 4 \n",
      "\n",
      "0 2 -227 229\n",
      "0 2 229 \n",
      "\n",
      "0 3 222 -222\n",
      "0 3 222 \n",
      "\n",
      "\n",
      "[1, 4, 229, 222]\n",
      "[0, 5, 228, -221]\n",
      "[0, 0, 233, 226]\n",
      "[0, 0, 0, 7]\n",
      "222\n"
     ]
    }
   ],
   "source": [
    "        length = len(nums)\n",
    "        dp_matrix = [[ 0 for i in range(length)] for j in range(length)]\n",
    "        \n",
    "        for i in range(0, length):\n",
    "            dp_matrix[i][i] = nums[i];\n",
    "    \n",
    "        \n",
    "        for i in range(0, length)[::-1]:\n",
    "            for j in range(i+1, length):\n",
    "                print(i, j, nums[i] - dp_matrix[i+1][j], nums[j] - dp_matrix[i][j-1])\n",
    "                dp_matrix[i][j] = max(nums[i] - dp_matrix[i+1][j], nums[j] - dp_matrix[i][j-1])\n",
    "                print(i, j, dp_matrix[i][j], '\\n')\n",
    "        \n",
    "        print()\n",
    "        for i in (dp_matrix):\n",
    "            print(i)\n",
    "            \n",
    "        print(dp_matrix[0][length - 1])"
   ]
  },
  {
   "cell_type": "code",
   "execution_count": 18,
   "metadata": {},
   "outputs": [
    {
     "data": {
      "text/plain": [
       "[]"
      ]
     },
     "execution_count": 18,
     "metadata": {},
     "output_type": "execute_result"
    }
   ],
   "source": [
    "list(range(3,3))"
   ]
  },
  {
   "cell_type": "code",
   "execution_count": 25,
   "metadata": {},
   "outputs": [
    {
     "name": "stdout",
     "output_type": "stream",
     "text": [
      "\n",
      "[0, 5, 999, 227]\n",
      "[0, 5, 999, 227]\n",
      "[0, 5, 999, 227]\n",
      "[0, 5, 999, 227]\n"
     ]
    }
   ],
   "source": [
    "dp_matrix[1][2] = 999\n",
    "\n",
    "print()\n",
    "for i in (dp_matrix):\n",
    "    print(i)"
   ]
  },
  {
   "cell_type": "code",
   "execution_count": 45,
   "metadata": {},
   "outputs": [
    {
     "data": {
      "text/plain": [
       "7"
      ]
     },
     "execution_count": 45,
     "metadata": {},
     "output_type": "execute_result"
    }
   ],
   "source": [
    "int(8/3)*3 + int(4/3)"
   ]
  },
  {
   "cell_type": "code",
   "execution_count": 55,
   "metadata": {},
   "outputs": [],
   "source": [
    "board = [[\"5\",\"3\",\".\",\".\",\"7\",\".\",\".\",\".\",\".\"],[\"6\",\".\",\".\",\"1\",\"9\",\"5\",\".\",\".\",\".\"],[\".\",\"9\",\"8\",\".\",\".\",\".\",\".\",\"6\",\".\"],[\"8\",\".\",\".\",\".\",\"6\",\".\",\".\",\".\",\"3\"],[\"4\",\".\",\".\",\"8\",\".\",\"3\",\".\",\".\",\"1\"],[\"7\",\".\",\".\",\".\",\"2\",\".\",\".\",\".\",\"6\"],[\".\",\"6\",\".\",\".\",\".\",\".\",\"2\",\"8\",\".\"],[\".\",\".\",\".\",\"4\",\"1\",\"9\",\".\",\".\",\"5\"],[\".\",\".\",\".\",\".\",\"8\",\".\",\".\",\"7\",\"9\"]]"
   ]
  },
  {
   "cell_type": "code",
   "execution_count": 70,
   "metadata": {},
   "outputs": [
    {
     "name": "stdout",
     "output_type": "stream",
     "text": [
      "0 0\n",
      "0 1\n",
      "0 4\n",
      "1 0\n",
      "1 3\n",
      "1 4\n",
      "1 5\n",
      "2 1\n",
      "2 2\n",
      "2 7\n",
      "3 0\n",
      "3 4\n",
      "3 8\n",
      "4 0\n",
      "4 3\n",
      "4 5\n",
      "4 8\n",
      "5 0\n",
      "5 4\n",
      "5 8\n",
      "6 1\n",
      "6 6\n",
      "6 7\n",
      "7 3\n",
      "7 4\n",
      "7 5\n",
      "7 8\n",
      "8 4\n",
      "8 7\n",
      "8 8\n"
     ]
    }
   ],
   "source": [
    "        row_dict = {}\n",
    "        col_dict = {}\n",
    "        box_dict = {}\n",
    "        \n",
    "        for i in range(0, 9):\n",
    "            row_dict[i] = []\n",
    "            col_dict[i] = []\n",
    "            box_dict[i] = []\n",
    "        \n",
    "        for i in range(0, 9):\n",
    "            for j in range(0, 9):\n",
    "                ch = board[i][j]\n",
    "                \n",
    "                if ch == \".\":\n",
    "                    continue\n",
    "                \n",
    "                print(i, j)\n",
    "                if ch in row_dict[i]:\n",
    "                    print(\"WRONG\")\n",
    "                else:\n",
    "                    row_dict[i].append(ch)\n",
    "                    \n",
    "                if ch in col_dict[j]:\n",
    "                    print(\"WRONG\")\n",
    "                else:\n",
    "                    col_dict[j].append(ch)\n",
    "                    \n",
    "                box_no = int(i/3)*3 + int(j/3)\n",
    "                if ch in box_dict[box_no]:\n",
    "                    print(\"WRONG\")\n",
    "                else:\n",
    "                    box_dict[box_no].append(ch)\n",
    "                    "
   ]
  },
  {
   "cell_type": "code",
   "execution_count": 71,
   "metadata": {},
   "outputs": [
    {
     "data": {
      "text/plain": [
       "1.5"
      ]
     },
     "execution_count": 71,
     "metadata": {},
     "output_type": "execute_result"
    }
   ],
   "source": [
    "3/2"
   ]
  },
  {
   "cell_type": "code",
   "execution_count": null,
   "metadata": {},
   "outputs": [],
   "source": []
  }
 ],
 "metadata": {
  "kernelspec": {
   "display_name": "Python 3",
   "language": "python",
   "name": "python3"
  },
  "language_info": {
   "codemirror_mode": {
    "name": "ipython",
    "version": 3
   },
   "file_extension": ".py",
   "mimetype": "text/x-python",
   "name": "python",
   "nbconvert_exporter": "python",
   "pygments_lexer": "ipython3",
   "version": "3.7.4"
  }
 },
 "nbformat": 4,
 "nbformat_minor": 2
}
