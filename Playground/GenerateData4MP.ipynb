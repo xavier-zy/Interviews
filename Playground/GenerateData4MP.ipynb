{
 "cells": [
  {
   "cell_type": "code",
   "execution_count": 5,
   "metadata": {},
   "outputs": [],
   "source": [
    "import pandas as pd\n",
    "import numpy as np"
   ]
  },
  {
   "cell_type": "code",
   "execution_count": 6,
   "metadata": {},
   "outputs": [
    {
     "name": "stdout",
     "output_type": "stream",
     "text": [
      "(458, 3)\n"
     ]
    },
    {
     "data": {
      "text/html": [
       "<div>\n",
       "<style scoped>\n",
       "    .dataframe tbody tr th:only-of-type {\n",
       "        vertical-align: middle;\n",
       "    }\n",
       "\n",
       "    .dataframe tbody tr th {\n",
       "        vertical-align: top;\n",
       "    }\n",
       "\n",
       "    .dataframe thead th {\n",
       "        text-align: right;\n",
       "    }\n",
       "</style>\n",
       "<table border=\"1\" class=\"dataframe\">\n",
       "  <thead>\n",
       "    <tr style=\"text-align: right;\">\n",
       "      <th></th>\n",
       "      <th>word</th>\n",
       "      <th>chinese</th>\n",
       "      <th>explain</th>\n",
       "    </tr>\n",
       "  </thead>\n",
       "  <tbody>\n",
       "    <tr>\n",
       "      <th>0</th>\n",
       "      <td>Abolitionism</td>\n",
       "      <td>废奴主义</td>\n",
       "      <td>A movement in europe and the americas dedicate...</td>\n",
       "    </tr>\n",
       "    <tr>\n",
       "      <th>1</th>\n",
       "      <td>Absenteeism</td>\n",
       "      <td>旷工</td>\n",
       "      <td>The state of being absent from the workplace –...</td>\n",
       "    </tr>\n",
       "    <tr>\n",
       "      <th>2</th>\n",
       "      <td>Absolutism</td>\n",
       "      <td>绝对主义</td>\n",
       "      <td>As a political doctrine, it asserts the unlimi...</td>\n",
       "    </tr>\n",
       "    <tr>\n",
       "      <th>3</th>\n",
       "      <td>Abstract expressionism</td>\n",
       "      <td>抽象表现主义</td>\n",
       "      <td>A school of non-figurative art that began in n...</td>\n",
       "    </tr>\n",
       "    <tr>\n",
       "      <th>4</th>\n",
       "      <td>Absurdism</td>\n",
       "      <td>荒诞主义</td>\n",
       "      <td>A philosophy, closely linked to existentialism...</td>\n",
       "    </tr>\n",
       "  </tbody>\n",
       "</table>\n",
       "</div>"
      ],
      "text/plain": [
       "                     word chinese  \\\n",
       "0            Abolitionism    废奴主义   \n",
       "1             Absenteeism      旷工   \n",
       "2              Absolutism    绝对主义   \n",
       "3  Abstract expressionism  抽象表现主义   \n",
       "4               Absurdism    荒诞主义   \n",
       "\n",
       "                                             explain  \n",
       "0  A movement in europe and the americas dedicate...  \n",
       "1  The state of being absent from the workplace –...  \n",
       "2  As a political doctrine, it asserts the unlimi...  \n",
       "3  A school of non-figurative art that began in n...  \n",
       "4  A philosophy, closely linked to existentialism...  "
      ]
     },
     "execution_count": 6,
     "metadata": {},
     "output_type": "execute_result"
    }
   ],
   "source": [
    "data = pd.read_csv(\"IsmsFULL.csv\", usecols=['word', 'chinese', 'explain'])\n",
    "print(data.shape)\n",
    "data.head()"
   ]
  },
  {
   "cell_type": "code",
   "execution_count": 20,
   "metadata": {},
   "outputs": [],
   "source": [
    "for i in range(data.shape[0]):\n",
    "    data.iloc[i].explain = '. '.join([clause.capitalize() for clause in data.iloc[i].explain.split('. ')])"
   ]
  },
  {
   "cell_type": "code",
   "execution_count": 26,
   "metadata": {},
   "outputs": [],
   "source": [
    "data['word'] = [s.capitalize() for s in data.word.to_list()]"
   ]
  },
  {
   "cell_type": "code",
   "execution_count": 27,
   "metadata": {},
   "outputs": [],
   "source": [
    "data['alphabet'] = data.word.str[0]"
   ]
  },
  {
   "cell_type": "code",
   "execution_count": 28,
   "metadata": {},
   "outputs": [
    {
     "data": {
      "text/html": [
       "<div>\n",
       "<style scoped>\n",
       "    .dataframe tbody tr th:only-of-type {\n",
       "        vertical-align: middle;\n",
       "    }\n",
       "\n",
       "    .dataframe tbody tr th {\n",
       "        vertical-align: top;\n",
       "    }\n",
       "\n",
       "    .dataframe thead th {\n",
       "        text-align: right;\n",
       "    }\n",
       "</style>\n",
       "<table border=\"1\" class=\"dataframe\">\n",
       "  <thead>\n",
       "    <tr style=\"text-align: right;\">\n",
       "      <th></th>\n",
       "      <th>word</th>\n",
       "      <th>chinese</th>\n",
       "      <th>explain</th>\n",
       "      <th>alphabet</th>\n",
       "    </tr>\n",
       "  </thead>\n",
       "  <tbody>\n",
       "    <tr>\n",
       "      <th>0</th>\n",
       "      <td>Abolitionism</td>\n",
       "      <td>废奴主义</td>\n",
       "      <td>A movement in europe and the americas dedicate...</td>\n",
       "      <td>A</td>\n",
       "    </tr>\n",
       "    <tr>\n",
       "      <th>1</th>\n",
       "      <td>Absenteeism</td>\n",
       "      <td>旷工</td>\n",
       "      <td>The state of being absent from the workplace –...</td>\n",
       "      <td>A</td>\n",
       "    </tr>\n",
       "    <tr>\n",
       "      <th>2</th>\n",
       "      <td>Absolutism</td>\n",
       "      <td>绝对主义</td>\n",
       "      <td>As a political doctrine, it asserts the unlimi...</td>\n",
       "      <td>A</td>\n",
       "    </tr>\n",
       "    <tr>\n",
       "      <th>3</th>\n",
       "      <td>Abstract expressionism</td>\n",
       "      <td>抽象表现主义</td>\n",
       "      <td>A school of non-figurative art that began in n...</td>\n",
       "      <td>A</td>\n",
       "    </tr>\n",
       "    <tr>\n",
       "      <th>4</th>\n",
       "      <td>Absurdism</td>\n",
       "      <td>荒诞主义</td>\n",
       "      <td>A philosophy, closely linked to existentialism...</td>\n",
       "      <td>A</td>\n",
       "    </tr>\n",
       "  </tbody>\n",
       "</table>\n",
       "</div>"
      ],
      "text/plain": [
       "                     word chinese  \\\n",
       "0            Abolitionism    废奴主义   \n",
       "1             Absenteeism      旷工   \n",
       "2              Absolutism    绝对主义   \n",
       "3  Abstract expressionism  抽象表现主义   \n",
       "4               Absurdism    荒诞主义   \n",
       "\n",
       "                                             explain alphabet  \n",
       "0  A movement in europe and the americas dedicate...        A  \n",
       "1  The state of being absent from the workplace –...        A  \n",
       "2  As a political doctrine, it asserts the unlimi...        A  \n",
       "3  A school of non-figurative art that began in n...        A  \n",
       "4  A philosophy, closely linked to existentialism...        A  "
      ]
     },
     "execution_count": 28,
     "metadata": {},
     "output_type": "execute_result"
    }
   ],
   "source": [
    "data.head()"
   ]
  },
  {
   "cell_type": "code",
   "execution_count": 29,
   "metadata": {},
   "outputs": [],
   "source": [
    "import json"
   ]
  },
  {
   "cell_type": "code",
   "execution_count": 30,
   "metadata": {},
   "outputs": [],
   "source": [
    "words_dic = {}\n",
    "for item in data.groupby(by=['alphabet']):\n",
    "    li = []\n",
    "    for i in range(item[1].shape[0]):\n",
    "        word = item[1].word.tolist()[i]\n",
    "        chinese = item[1].chinese.tolist()[i]\n",
    "        li.append([word, chinese])\n",
    "        \n",
    "    words_dic[item[0]] = li"
   ]
  },
  {
   "cell_type": "code",
   "execution_count": 32,
   "metadata": {},
   "outputs": [],
   "source": [
    "with open('words.js', 'w') as f:\n",
    "    json.dump(words_dic, f)"
   ]
  },
  {
   "cell_type": "code",
   "execution_count": 43,
   "metadata": {},
   "outputs": [],
   "source": [
    "words2_dic = {}\n",
    "for item in data.groupby(by=['alphabet']):\n",
    "    dic = {}\n",
    "    for i in range(item[1].shape[0]):\n",
    "        word = item[1].word.tolist()[i]\n",
    "        chinese = item[1].chinese.tolist()[i]\n",
    "        dic[word] = chinese\n",
    "        \n",
    "    words2_dic[item[0]] = dic"
   ]
  },
  {
   "cell_type": "code",
   "execution_count": 44,
   "metadata": {},
   "outputs": [],
   "source": [
    "with open('words2.js', 'w') as f:\n",
    "    json.dump(words2_dic, f)"
   ]
  },
  {
   "cell_type": "code",
   "execution_count": 39,
   "metadata": {},
   "outputs": [],
   "source": [
    "explains_dic = {}\n",
    "for item in data.groupby(by=['alphabet']):\n",
    "    dic = {}\n",
    "    for i in range(item[1].shape[0]):\n",
    "        word = item[1].word.tolist()[i]\n",
    "        explain = item[1].explain.tolist()[i]\n",
    "        dic[word] = explain\n",
    "        \n",
    "    explains_dic[item[0]] = dic"
   ]
  },
  {
   "cell_type": "code",
   "execution_count": 40,
   "metadata": {},
   "outputs": [],
   "source": [
    "with open('explains.js', 'w') as f:\n",
    "    json.dump(explains_dic, f)"
   ]
  },
  {
   "cell_type": "code",
   "execution_count": null,
   "metadata": {},
   "outputs": [],
   "source": []
  }
 ],
 "metadata": {
  "kernelspec": {
   "display_name": "Python 3",
   "language": "python",
   "name": "python3"
  },
  "language_info": {
   "codemirror_mode": {
    "name": "ipython",
    "version": 3
   },
   "file_extension": ".py",
   "mimetype": "text/x-python",
   "name": "python",
   "nbconvert_exporter": "python",
   "pygments_lexer": "ipython3",
   "version": "3.7.4"
  }
 },
 "nbformat": 4,
 "nbformat_minor": 2
}
