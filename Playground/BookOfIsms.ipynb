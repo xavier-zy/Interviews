{
 "cells": [
  {
   "cell_type": "code",
   "execution_count": 1,
   "metadata": {},
   "outputs": [],
   "source": [
    "import fitz\n",
    "import re\n",
    "import pandas"
   ]
  },
  {
   "cell_type": "code",
   "execution_count": 2,
   "metadata": {},
   "outputs": [],
   "source": [
    "pdf_document = \"/Users/a/Desktop/Book of isms.pdf\""
   ]
  },
  {
   "cell_type": "code",
   "execution_count": 3,
   "metadata": {},
   "outputs": [
    {
     "name": "stdout",
     "output_type": "stream",
     "text": [
      "Pages: 251\n",
      "{'format': 'PDF 1.6', 'title': None, 'author': None, 'subject': None, 'keywords': None, 'creator': 'Adobe InDesign CS4 (6.0.4)', 'producer': 'macOS 版本10.15（版号19A583） Quartz PDFContext, AppendMode 1.1', 'creationDate': \"D:20100421122035+01'00'\", 'modDate': \"D:20191010052259Z00'00'\", 'encryption': None}\n"
     ]
    }
   ],
   "source": [
    "doc = fitz.open(pdf_document)\n",
    "print(\"Pages: %i\" % doc.pageCount)\n",
    "print(doc.metadata)"
   ]
  },
  {
   "cell_type": "code",
   "execution_count": 4,
   "metadata": {},
   "outputs": [
    {
     "name": "stdout",
     "output_type": "stream",
     "text": [
      "['1', '24', '35', '52', '61', '72', '81', '86', '93', '99', '105', '109', '117', '142', '155', '160', '185', '187', '196', '215', '223', '228', '231', '234']\n",
      "[7, 30, 41, 58, 67, 78, 87, 92, 99, 105, 111, 115, 123, 148, 161, 166, 191, 193, 202, 221, 229, 234, 237, 240]\n"
     ]
    }
   ],
   "source": [
    "page = doc.loadPage(3)\n",
    "indexes = page.getTextBlocks()[2][4]\n",
    "index_list = re.findall(r\"\\d+\\.?\\d*\", indexes)\n",
    "print(index_list)\n",
    "\n",
    "real_index_list = [int(i)+6 for i in index_list]\n",
    "print(real_index_list)"
   ]
  },
  {
   "cell_type": "markdown",
   "metadata": {},
   "source": [
    "### 7-251"
   ]
  },
  {
   "cell_type": "code",
   "execution_count": 5,
   "metadata": {},
   "outputs": [],
   "source": [
    "ismsDF = pandas.DataFrame(columns=[\"id\", \"word\", \"explain\"])"
   ]
  },
  {
   "cell_type": "code",
   "execution_count": 6,
   "metadata": {
    "scrolled": false
   },
   "outputs": [],
   "source": [
    "all_isms = []\n",
    "temp = \"\"\n",
    "word = \"\"\n",
    "explain = \"\"\n",
    "ID = 0\n",
    "all_isms = []\n",
    "data = {}\n",
    "\n",
    "for i in range(7, 251):\n",
    "    page = doc.loadPage(i)\n",
    "    if i not in real_index_list:\n",
    "        contents = page.getTextBlocks()[1:-1]\n",
    "    else:\n",
    "        contents = page.getTextBlocks()[:-1]\n",
    "        \n",
    "    for content in contents:\n",
    "        ism = content[4].replace(\"\\n\", \"\")\n",
    "        if len(ism) != 1:\n",
    "            if not ism.endswith(\".\"):\n",
    "                temp = temp + ism\n",
    "            elif temp != \"\":\n",
    "                temp += ism\n",
    "                j = 1\n",
    "                while not temp[:j].endswith(\"ism\"):\n",
    "                    j += 1\n",
    "                \n",
    "                word = temp[:j]\n",
    "                explain = temp[j+1:].capitalize()\n",
    "                ID += 1\n",
    "                temp = \"\"\n",
    "                \n",
    "                data = {\n",
    "                    'id' : ID,\n",
    "                    'word' : word,\n",
    "                    'explain' : explain\n",
    "                }\n",
    "                ismsDF = ismsDF.append(data, ignore_index=True)\n",
    "                \n",
    "            else:\n",
    "                j = 1\n",
    "                while not ism[:j].endswith(\"ism\"):\n",
    "                    j += 1\n",
    "                \n",
    "                word = ism[:j]\n",
    "                explain = ism[j+1:].capitalize()\n",
    "                ID += 1\n",
    "                \n",
    "                data = {\n",
    "                    'id' : ID,\n",
    "                    'word' : word,\n",
    "                    'explain' : explain\n",
    "                }\n",
    "                ismsDF = ismsDF.append(data, ignore_index=True)"
   ]
  },
  {
   "cell_type": "code",
   "execution_count": 7,
   "metadata": {},
   "outputs": [
    {
     "data": {
      "text/html": [
       "<div>\n",
       "<style scoped>\n",
       "    .dataframe tbody tr th:only-of-type {\n",
       "        vertical-align: middle;\n",
       "    }\n",
       "\n",
       "    .dataframe tbody tr th {\n",
       "        vertical-align: top;\n",
       "    }\n",
       "\n",
       "    .dataframe thead th {\n",
       "        text-align: right;\n",
       "    }\n",
       "</style>\n",
       "<table border=\"1\" class=\"dataframe\">\n",
       "  <thead>\n",
       "    <tr style=\"text-align: right;\">\n",
       "      <th></th>\n",
       "      <th>id</th>\n",
       "      <th>word</th>\n",
       "      <th>explain</th>\n",
       "    </tr>\n",
       "  </thead>\n",
       "  <tbody>\n",
       "    <tr>\n",
       "      <th>0</th>\n",
       "      <td>1</td>\n",
       "      <td>Abolitionism</td>\n",
       "      <td>A movement in europe and the americas dedicate...</td>\n",
       "    </tr>\n",
       "    <tr>\n",
       "      <th>1</th>\n",
       "      <td>2</td>\n",
       "      <td>Absenteeism</td>\n",
       "      <td>The state of being absent from the workplace –...</td>\n",
       "    </tr>\n",
       "    <tr>\n",
       "      <th>2</th>\n",
       "      <td>3</td>\n",
       "      <td>Absolutism</td>\n",
       "      <td>As a political doctrine, it asserts the unlimi...</td>\n",
       "    </tr>\n",
       "    <tr>\n",
       "      <th>3</th>\n",
       "      <td>4</td>\n",
       "      <td>Abstract expressionism</td>\n",
       "      <td>A school of non-figurative art that began in n...</td>\n",
       "    </tr>\n",
       "    <tr>\n",
       "      <th>4</th>\n",
       "      <td>5</td>\n",
       "      <td>Absurdism</td>\n",
       "      <td>A philosophy, closely linked to existentialism...</td>\n",
       "    </tr>\n",
       "  </tbody>\n",
       "</table>\n",
       "</div>"
      ],
      "text/plain": [
       "  id                    word  \\\n",
       "0  1            Abolitionism   \n",
       "1  2             Absenteeism   \n",
       "2  3              Absolutism   \n",
       "3  4  Abstract expressionism   \n",
       "4  5               Absurdism   \n",
       "\n",
       "                                             explain  \n",
       "0  A movement in europe and the americas dedicate...  \n",
       "1  The state of being absent from the workplace –...  \n",
       "2  As a political doctrine, it asserts the unlimi...  \n",
       "3  A school of non-figurative art that began in n...  \n",
       "4  A philosophy, closely linked to existentialism...  "
      ]
     },
     "execution_count": 7,
     "metadata": {},
     "output_type": "execute_result"
    }
   ],
   "source": [
    "ismsDF.head()"
   ]
  },
  {
   "cell_type": "markdown",
   "metadata": {},
   "source": [
    "## 导出DataFrame"
   ]
  },
  {
   "cell_type": "code",
   "execution_count": 8,
   "metadata": {},
   "outputs": [],
   "source": [
    "ismsDF.to_csv(\"Isms.csv\")"
   ]
  },
  {
   "cell_type": "code",
   "execution_count": 9,
   "metadata": {},
   "outputs": [],
   "source": [
    "ismsDF.to_json(\"Isms.js\")\n",
    "ismsDF.to_json(\"Isms2.js\", orient=\"records\")"
   ]
  },
  {
   "cell_type": "code",
   "execution_count": 10,
   "metadata": {},
   "outputs": [],
   "source": [
    "# s = \"Abstract Alarmism An addiction, sometimes associated with mental illness, to alcoholic drinks, which an alcoholic consumes to excess. America’s national council on Alcoholism and Drug Dependence defines alcoholism as “a primary, chronic disease characterised by impaired control over drinking, preoccupation with the drug alcohol, use of alcohol despite adverse consequences, and distortions in thinking”. the description of alcoholism as a disease, rather than simply a form of behaviour, became pr\"\n",
    "# re.findall(r'\\S*?ism\\b', s)"
   ]
  },
  {
   "cell_type": "markdown",
   "metadata": {},
   "source": [
    "## 导出主义列表"
   ]
  },
  {
   "cell_type": "code",
   "execution_count": 11,
   "metadata": {},
   "outputs": [],
   "source": [
    "import json"
   ]
  },
  {
   "cell_type": "code",
   "execution_count": 12,
   "metadata": {},
   "outputs": [],
   "source": [
    "ismsDF['word'] = [s.capitalize() for s in ismsDF.word.to_list()]"
   ]
  },
  {
   "cell_type": "code",
   "execution_count": 13,
   "metadata": {},
   "outputs": [],
   "source": [
    "ismsDF['alphabet'] = ismsDF.word.str[0]"
   ]
  },
  {
   "cell_type": "code",
   "execution_count": 17,
   "metadata": {},
   "outputs": [],
   "source": [
    "words_dic = {}\n",
    "for item in ismsDF.groupby(by=['alphabet']):\n",
    "    dic = {}\n",
    "    for i in range(0, item[1].shape[0]):\n",
    "        word = item[1].word.tolist()[i]\n",
    "        explain = item[1].explain.tolist()[i]\n",
    "        dic[word] = explain\n",
    "        \n",
    "    words_dic[item[0]] = dic"
   ]
  },
  {
   "cell_type": "code",
   "execution_count": 19,
   "metadata": {},
   "outputs": [],
   "source": [
    "with open('explains.js', 'w') as f:\n",
    "    json.dump(words_dic, f)"
   ]
  },
  {
   "cell_type": "code",
   "execution_count": 16,
   "metadata": {},
   "outputs": [],
   "source": [
    "# words_dic"
   ]
  },
  {
   "cell_type": "code",
   "execution_count": 17,
   "metadata": {},
   "outputs": [],
   "source": []
  }
 ],
 "metadata": {
  "kernelspec": {
   "display_name": "Python 3",
   "language": "python",
   "name": "python3"
  },
  "language_info": {
   "codemirror_mode": {
    "name": "ipython",
    "version": 3
   },
   "file_extension": ".py",
   "mimetype": "text/x-python",
   "name": "python",
   "nbconvert_exporter": "python",
   "pygments_lexer": "ipython3",
   "version": "3.7.4"
  }
 },
 "nbformat": 4,
 "nbformat_minor": 2
}
